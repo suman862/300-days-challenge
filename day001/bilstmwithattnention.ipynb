{
 "cells": [
  {
   "cell_type": "code",
   "execution_count": 2,
   "id": "b0aac3e8",
   "metadata": {},
   "outputs": [
    {
     "name": "stdout",
     "output_type": "stream",
     "text": [
      "Input indices: tensor([[0, 1]])\n",
      "\n",
      "🔹 Input indices: tensor([[0, 1]])\n",
      "🔹 Word embeddings:\n",
      " tensor([[[ 0.9283, -0.0850, -1.0262, -1.0040],\n",
      "         [ 1.7449,  2.1992, -1.6796,  1.5037]]], grad_fn=<EmbeddingBackward0>)\n",
      "🔹 BiLSTM output at each time step:\n",
      " tensor([[[ 0.1778,  0.1600,  0.0018,  0.0060, -0.3635,  0.0412],\n",
      "         [-0.0299,  0.5586,  0.0684,  0.0786, -0.5420, -0.0558]]],\n",
      "       grad_fn=<TransposeBackward0>)\n",
      "🔹 Final hidden state (2 directions):\n",
      " tensor([[[-0.0299,  0.5586,  0.0684]],\n",
      "\n",
      "        [[ 0.0060, -0.3635,  0.0412]]], grad_fn=<StackBackward0>)\n"
     ]
    }
   ],
   "source": [
    "import torch\n",
    "import torch.nn as nn\n",
    "\n",
    "# Step 1: Define the toy vocabulary\n",
    "vocab = {\"hi\": 0, \"there\": 1, \"hello\": 2}\n",
    "vocab_size = len(vocab)\n",
    "embedding_dim = 4  # small for simplicity\n",
    "hidden_dim = 3\n",
    "\n",
    "# Step 2: Create BiLSTM Model\n",
    "class BiLSTMModel(nn.Module):\n",
    "    def __init__(self, vocab_size, embedding_dim, hidden_dim):\n",
    "        super(BiLSTMModel, self).__init__()\n",
    "        self.embedding = nn.Embedding(vocab_size, embedding_dim)\n",
    "        self.bilstm = nn.LSTM(embedding_dim, hidden_dim, batch_first=True, bidirectional=True)\n",
    "\n",
    "    def forward(self, x):\n",
    "        print(\"\\n🔹 Input indices:\", x)\n",
    "        embeds = self.embedding(x)\n",
    "        print(\"🔹 Word embeddings:\\n\", embeds)\n",
    "\n",
    "        output, (h_n, c_n) = self.bilstm(embeds)\n",
    "        print(\"🔹 BiLSTM output at each time step:\\n\", output)\n",
    "        print(\"🔹 Final hidden state (2 directions):\\n\", h_n)\n",
    "        return output\n",
    "\n",
    "# Step 3: Initialize model\n",
    "model = BiLSTMModel(vocab_size, embedding_dim, hidden_dim)\n",
    "\n",
    "# Step 4: Prepare input tensor\n",
    "# Convert \"hi there\" -> [0, 1]\n",
    "sentence = [\"hi\", \"there\"]\n",
    "input_indices = torch.tensor([[vocab[word] for word in sentence]])  # shape: (1, 2)\n",
    "print(\"Input indices:\", input_indices)\n",
    "\n",
    "# Step 5: Run through BiLSTM\n",
    "output = model(input_indices)\n"
   ]
  }
 ],
 "metadata": {
  "kernelspec": {
   "display_name": "Python 3",
   "language": "python",
   "name": "python3"
  },
  "language_info": {
   "codemirror_mode": {
    "name": "ipython",
    "version": 3
   },
   "file_extension": ".py",
   "mimetype": "text/x-python",
   "name": "python",
   "nbconvert_exporter": "python",
   "pygments_lexer": "ipython3",
   "version": "3.11.13"
  }
 },
 "nbformat": 4,
 "nbformat_minor": 5
}
