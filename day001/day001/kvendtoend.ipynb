{
 "cells": [
  {
   "cell_type": "code",
   "execution_count": 7,
   "id": "1ca695cf",
   "metadata": {},
   "outputs": [],
   "source": [
    "import torch.nn as nn \n",
    "class BILSTM(nn.Module):\n",
    "  def __init__(self,):\n",
    "    super(BILSTM,self).__init__()\n",
    "    \n",
    "      \n",
    "      \n",
    "    \n",
    "  "
   ]
  },
  {
   "cell_type": "code",
   "execution_count": null,
   "id": "7daacc6f",
   "metadata": {},
   "outputs": [],
   "source": [
    "import torch.nn as nn \n",
    "class sequenceclassifier(nn.Module):\n",
    "  #defining the class fors sequence classification using a bidirectional LSTM\n",
    "  def __init__(self,vocab_size,embedding_dim,hidden_dim,num_layers,dropout,output_dim):      # ??constructor to initialize the parameters\n",
    "    super(sequenceclassifier,self).__init__()\n",
    "    self.embedding=nn.Embedding(vocab_size,embedding_dim)\n",
    "    self.lstm=nn.Lstm(embedding_dim,hidden_dim,num_layers,bidirectional=True,dropout=dropout) #\n",
    "    #input dimension= embedding_dim\n",
    "    #both ht and ct are of same size(num_layers*num_directions,batch_size,hidden_dim) \n",
    "    #number of direction is 2 for bidirectional lstm \n",
    "    #sequence length is product of num_layers and num_directions.\n",
    "    #number of layers = number of lstm cell. \n",
    "    #make sure layers are capitalized while calling, we will not use small letter like nn.LSTM or nn.Linear not nn.linear \n",
    "    self.dropout=nn.Dropout(dropout)\n",
    "    self.fc=nn.Linear(hidden_dim *2,output_dim)\n",
    "  def forward(self,x): #size of x is (batch_Size,sequence_length)\n",
    "    #forward pass where actual calculation/computation happens.\n",
    "    embedded=self.embedding(x)                                                         #  self.lstm(embedded) returns a tuple: (output, (h_n, c_n))\n",
    "    output,(h_n,c_n)=self.lstm(embedded)\n",
    "    dropout=self.dropout(output)                                                       #dropout is applied to the output of the lstm \n",
    "    out=self.fc(dropout)                                                               # Toutput will be of size (batch_size,sequence_length,hidden_dim)\n",
    "    return out #output \n",
    "    \n",
    "    "
   ]
  },
  {
   "cell_type": "code",
   "execution_count": null,
   "id": "3d3861b4",
   "metadata": {},
   "outputs": [],
   "source": []
  },
  {
   "cell_type": "code",
   "execution_count": null,
   "id": "c14dc914",
   "metadata": {},
   "outputs": [],
   "source": []
  },
  {
   "cell_type": "code",
   "execution_count": 9,
   "id": "690cea79",
   "metadata": {},
   "outputs": [],
   "source": [
    "class SequenceClassifier(nn.Module):\n",
    "  def __init__(self,vocab_size,embedding_dim,hidden_dim,output_dim,num_layers,dropout):\n",
    "    super(sequenceclassifier,self).__init__()\n",
    "    self.embedding=nn.Embedding(vocab_size,embedding_dim)\n",
    "    self.lstm=nn.LSTM(embedding_dim,hidden_dim,num_layers,bidirectional=True,dropout=dropout)\n",
    "    self.dropout=nn.Dropout(dropout)\n",
    "    self.fc=nn.Linear(hidden_dim *2,output_dim) # *2 because of bidirectional lstm\n",
    " \n",
    "  def forward(self,x):\n",
    "    embedding=self.embedding(x)\n",
    "    bilstm=self.lstm(embedding)\n",
    "    dropout=self.dropout(bilstm)\n",
    "    output=self.fc(dropout)\n",
    "    return output\n",
    "    "
   ]
  }
 ],
 "metadata": {
  "kernelspec": {
   "display_name": "Python 3",
   "language": "python",
   "name": "python3"
  },
  "language_info": {
   "codemirror_mode": {
    "name": "ipython",
    "version": 3
   },
   "file_extension": ".py",
   "mimetype": "text/x-python",
   "name": "python",
   "nbconvert_exporter": "python",
   "pygments_lexer": "ipython3",
   "version": "3.11.13"
  }
 },
 "nbformat": 4,
 "nbformat_minor": 5
}
