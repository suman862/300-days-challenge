{
 "cells": [
  {
   "cell_type": "code",
   "execution_count": 23,
   "id": "1ca695cf",
   "metadata": {},
   "outputs": [],
   "source": [
    "import torch.nn as nn \n",
    "class BILSTM(nn.Module):\n",
    "  def __init__(self,):\n",
    "    super(BILSTM,self).__init__()\n",
    "    \n",
    "      \n",
    "      \n",
    "    \n",
    "  "
   ]
  },
  {
   "cell_type": "code",
   "execution_count": 26,
   "id": "7daacc6f",
   "metadata": {},
   "outputs": [],
   "source": [
    "import torch \n",
    "import torch.nn as nn \n",
    "class sequenceclassifier(nn.Module):\n",
    "  #defining the class fors sequence classification using a bidirectional LSTM\n",
    "  def __init__(self,vocab_size,embedding_dim,hidden_dim,num_layers,dropout,output_dim):      # ??constructor to initialize the parameters\n",
    "    super(sequenceclassifier,self).__init__()\n",
    "    self.embedding = nn.Embedding(vocab_size,embedding_dim)\n",
    "    self.lstm      = nn.LSTM(embedding_dim,\n",
    "                             hidden_dim,\n",
    "                             num_layers,\n",
    "                             batch_first=True,#!by default, the input shape of lstm is sequence_length,batch_size,embedding_dim, but we want batch_size first as input shape is batch_size,sequence_length\n",
    "                             bidirectional = True,\n",
    "                             dropout       = dropout)\n",
    "    #Pytorch is case sensetive. All module names uses upper case letter.\n",
    "    #like nn.LSTM,nn.RNN\n",
    "    #input dimension= embedding_dim\n",
    "    #both ht and ct are of same size(num_layers*num_directions,batch_size,hidden_dim) \n",
    "    #number of direction is 2 for bidirectional lstm \n",
    "  \n",
    "    #number of layers=num_layers is the number of stacked LSTM layers (vertical depth).\n",
    "    #make sure layers are capitalized while calling, we will not use small letter like nn.LSTM or nn.Linear not nn.linear \n",
    "    self.dropout=nn.Dropout(dropout)\n",
    "    self.fc=nn.Linear(hidden_dim *2,output_dim)\n",
    "  def forward(self,x): # !size of x is (batch_Size,sequence_length)\n",
    "    #forward pass where actual calculation/computation happens.\n",
    "    embedded=self.embedding(x)                                                         #  self.lstm(embedded) returns a tuple: (output, (h_n, c_n))\n",
    "    output,(h_n,c_n)=self.lstm(embedded)\n",
    "    hidden=torch.cat((h_n[-2],h_n[-1]),dim=1) #hidden after concatentaion : (batch_size,hidden_dim *2)\n",
    "    \n",
    "    '''  for sequence labeling, we use output as input for next layer\n",
    "         for sequence classification , we use the concatenated hidden state as input for next layer'''\n",
    "    dropout = self.dropout(hidden) #after dropout, (batch_size,hidden_dim *2)\n",
    "    out     = self.fc(dropout) #after linear layer, (batch_size,output_dim)\n",
    "    return out                                                                      \n",
    "    \n",
    "    "
   ]
  },
  {
   "cell_type": "markdown",
   "id": "c680d26a",
   "metadata": {},
   "source": [
    "\n",
    "**Summary of Tensor Shapes in the Model:**\n",
    "\n",
    "- **Input x:** Shape is (batch_size, sequence_length)\n",
    "- **After Embedding Layer:** Shape is (batch_size, sequence_length, embedding_dim)\n",
    "- **After LSTM Layer:**\n",
    "  - Output: Shape is (batch_size, sequence_length, hidden_dim * 2) (since it’s bidirectional)\n",
    "  - h_n: Shape is (num_layers * 2, batch_size, hidden_dim)\n",
    "- **After Concatenating Last Layer’s Forward and Backward h_n:** Shape is (batch_size, hidden_dim * 2)\n",
    "- **After Dropout:** Shape remains (batch_size, hidden_dim * 2)\n",
    "- **After Linear Layer:** Shape is (batch_size, output_dim)\n",
    "\n",
    "---\n",
    "\n",
    "\n"
   ]
  },
  {
   "cell_type": "code",
   "execution_count": null,
   "id": "3d3861b4",
   "metadata": {},
   "outputs": [
    {
     "ename": "SyntaxError",
     "evalue": "invalid character '’' (U+2019) (3867241908.py, line 6)",
     "output_type": "error",
     "traceback": [
      "  \u001b[36mCell\u001b[39m\u001b[36m \u001b[39m\u001b[32mIn[25]\u001b[39m\u001b[32m, line 6\u001b[39m\n\u001b[31m    \u001b[39m\u001b[31m- Output: Shape is (batch_size, sequence_length, hidden_dim * 2) (since it’s bidirectional)\u001b[39m\n                                                                              ^\n\u001b[31mSyntaxError\u001b[39m\u001b[31m:\u001b[39m invalid character '’' (U+2019)\n"
     ]
    }
   ],
   "source": []
  },
  {
   "cell_type": "code",
   "execution_count": null,
   "id": "c14dc914",
   "metadata": {},
   "outputs": [],
   "source": []
  },
  {
   "cell_type": "code",
   "execution_count": null,
   "id": "690cea79",
   "metadata": {},
   "outputs": [],
   "source": [
    "class SequenceClassifier(nn.Module):\n",
    "  def __init__(self,vocab_size,embedding_dim,hidden_dim,output_dim,num_layers,dropout):\n",
    "    super(sequenceclassifier,self).__init__()\n",
    "    self.embedding=nn.Embedding(vocab_size,embedding_dim)\n",
    "    self.lstm=nn.LSTM(embedding_dim,hidden_dim,num_layers,bidirectional=True,dropout=dropout)\n",
    "    self.dropout=nn.Dropout(dropout)\n",
    "    self.fc=nn.Linear(hidden_dim *2,output_dim) # *2 because of bidirectional lstm\n",
    " \n",
    "  def forward(self,x):\n",
    "    embedding=self.embedding(x)\n",
    "    bilstm=self.lstm(embedding)\n",
    "    dropout=self.dropout(bilstm)\n",
    "    output=self.fc(dropout)\n",
    "    return output\n",
    "    "
   ]
  }
 ],
 "metadata": {
  "kernelspec": {
   "display_name": "Python 3",
   "language": "python",
   "name": "python3"
  },
  "language_info": {
   "codemirror_mode": {
    "name": "ipython",
    "version": 3
   },
   "file_extension": ".py",
   "mimetype": "text/x-python",
   "name": "python",
   "nbconvert_exporter": "python",
   "pygments_lexer": "ipython3",
   "version": "3.11.13"
  }
 },
 "nbformat": 4,
 "nbformat_minor": 5
}
