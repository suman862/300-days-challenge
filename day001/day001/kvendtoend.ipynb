{
 "cells": [
  {
   "cell_type": "code",
   "execution_count": 4,
   "id": "1ca695cf",
   "metadata": {},
   "outputs": [],
   "source": [
    "import torch.nn as nn \n",
    "class BILSTM(nn.Module):\n",
    "  def __init__(self,):\n",
    "    super(BILSTM,self).__init__()\n",
    "    \n",
    "      \n",
    "      \n",
    "    \n",
    "  "
   ]
  },
  {
   "cell_type": "code",
   "execution_count": null,
   "id": "7daacc6f",
   "metadata": {},
   "outputs": [
    {
     "ename": "",
     "evalue": "",
     "output_type": "error",
     "traceback": [
      "\u001b[1;31mnotebook controller is DISPOSED. \n",
      "\u001b[1;31mView Jupyter <a href='command:jupyter.viewOutput'>log</a> for further details."
     ]
    },
    {
     "ename": "",
     "evalue": "",
     "output_type": "error",
     "traceback": [
      "\u001b[1;31mnotebook controller is DISPOSED. \n",
      "\u001b[1;31mView Jupyter <a href='command:jupyter.viewOutput'>log</a> for further details."
     ]
    },
    {
     "ename": "",
     "evalue": "",
     "output_type": "error",
     "traceback": [
      "\u001b[1;31mnotebook controller is DISPOSED. \n",
      "\u001b[1;31mView Jupyter <a href='command:jupyter.viewOutput'>log</a> for further details."
     ]
    }
   ],
   "source": [
    "import torch \n",
    "import torch.nn as nn \n",
    "class sequenceclassifier(nn.Module):   #nn is class in pytorch  #use `PascalCase` for class names in Python.\n",
    "  #defining the class fors sequence classification using a bidirectional LSTM\n",
    "  def __init__(self,vocab_size,embedding_dim,hidden_dim,num_layers,dropout,output_dim):      # ??constructor to initialize the parameters\n",
    "    super(sequenceclassifier,self).__init__()\n",
    "    self.embedding = nn.Embedding(vocab_size,embedding_dim)\n",
    "    self.lstm      = nn.LSTM(embedding_dim,\n",
    "                             hidden_dim,\n",
    "                             num_layers,\n",
    "                             batch_first=True,#!by default, the input shape of lstm is sequence_length,batch_size,embedding_dim, but we want batch_size first as input shape is batch_size,sequence_length\n",
    "                             bidirectional = True,\n",
    "                             dropout       = dropout)\n",
    "    #Pytorch is case sensetive. All module names uses upper case letter.\n",
    "    #like nn.LSTM,nn.RNN\n",
    "    #input dimension= embedding_dim\n",
    "    #both ht and ct are of same size(num_layers*num_directions,batch_size,hidden_dim) \n",
    "    #number of direction is 2 for bidirectional lstm \n",
    "  \n",
    "    #number of layers=num_layers is the number of stacked LSTM layers (vertical depth).\n",
    "    #make sure layers are capitalized while calling, we will not use small letter like nn.LSTM or nn.Linear not nn.linear \n",
    "    self.dropout=nn.Dropout(dropout)\n",
    "    self.fc=nn.Linear(hidden_dim *2,output_dim)\n",
    "  def forward(self,x): # !size of x is (batch_Size,sequence_length)\n",
    "    #forward pass where actual calculation/computation happens.\n",
    "    embedded=self.embedding(x)                               #  self.lstm(embedded) returns a tuple: (output, (h_n, c_n))\n",
    "    output,(h_n,c_n)=self.lstm(embedded)\n",
    "    hidden=torch.cat((h_n[-2],h_n[-1]),dim=1) #hidden after concatentaion : (batch_size,hidden_dim *2)\n",
    "    \n",
    "    '''  for sequence labeling, we use output as input for next layer\n",
    "         for sequence classification, we use the concatenated hidden state as input for next layer\n",
    "         \n",
    "         1.h_n[-2] → last forward layer\n",
    "\n",
    "         2.h_n[-1] → last backward layer\n",
    "\n",
    "         '''\n",
    "    dropout = self.dropout(hidden) #after dropout, (batch_size,hidden_dim *2)\n",
    "    out     = self.fc(dropout) #after linear layer, (batch_size,output_dim)\n",
    "    return out                                                                      \n",
    "    \n",
    "    "
   ]
  },
  {
   "cell_type": "markdown",
   "id": "c680d26a",
   "metadata": {},
   "source": [
    "\n",
    "**Summary of Tensor Shapes in the Model:**\n",
    "\n",
    "- **Input x:** Shape is (batch_size, sequence_length)\n",
    "- **After Embedding Layer:** Shape is (batch_size, sequence_length, embedding_dim)\n",
    "- **After LSTM Layer:**\n",
    "  - Output: Shape is (batch_size, sequence_length, hidden_dim * 2) (since it’s bidirectional)\n",
    "  - h_n: Shape is (num_layers * 2, batch_size, hidden_dim)\n",
    "- **After Concatenating Last Layer’s Forward and Backward h_n:** Shape is (batch_size, hidden_dim * 2)\n",
    "- **After Dropout:** Shape remains (batch_size, hidden_dim * 2)\n",
    "- **After Linear Layer:** Shape is (batch_size, output_dim)\n",
    "\n",
    "---\n",
    "\n",
    "\n"
   ]
  },
  {
   "cell_type": "code",
   "execution_count": null,
   "id": "3d3861b4",
   "metadata": {},
   "outputs": [
    {
     "ename": "",
     "evalue": "",
     "output_type": "error",
     "traceback": [
      "\u001b[1;31mnotebook controller is DISPOSED. \n",
      "\u001b[1;31mView Jupyter <a href='command:jupyter.viewOutput'>log</a> for further details."
     ]
    },
    {
     "ename": "",
     "evalue": "",
     "output_type": "error",
     "traceback": [
      "\u001b[1;31mnotebook controller is DISPOSED. \n",
      "\u001b[1;31mView Jupyter <a href='command:jupyter.viewOutput'>log</a> for further details."
     ]
    },
    {
     "ename": "",
     "evalue": "",
     "output_type": "error",
     "traceback": [
      "\u001b[1;31mnotebook controller is DISPOSED. \n",
      "\u001b[1;31mView Jupyter <a href='command:jupyter.viewOutput'>log</a> for further details."
     ]
    }
   ],
   "source": [
    "import torch\n",
    "import torch.nn as nn \n",
    "class encoder(nn.Module): \n",
    "  def __init__(self,embedding_dim,hidden_dim,num_layers,dropout,): \n",
    "    super(encoder,self).__init__()\n",
    "    self.embedding = nn.Embedding(embedding_dim,hidden_dim)\n",
    "    self.lstm=nn.LSTM(embedding_dim,\n",
    "                      hidden_dim,\n",
    "                      num_layers,\n",
    "                      batch_first = True,\n",
    "                      bidirectional=True)\n",
    "    self.dropout = nn.Dropout(dropout)\n",
    "    self.fc      = nn.Linear(hidden_dim *2,hidden_dim) #hidden dim\n",
    "    \n",
    "  def forward(self,x): #!dim of x is (batch_size,seqence_lenght)\n",
    "    embedded = self.embedding(x)\n",
    "    output,(h_n,c_n)     = self.lstm(embedded)  #lstm returns a tuple:(output,(h_n,c_n))\n",
    "    #output is output from each time step\n",
    "    #h_n and c_n are hidden and cell state of the last time step.\n",
    "    hidden  = torch.cat((h_n[-2],h_n[-1]),dim=1)\n",
    "    dropout = self.Dropout(hidden)\n",
    "    out     = self.fc(dropout)\n",
    "    return out \n",
    "    \n",
    "    \n",
    "    \n",
    "    \n"
   ]
  },
  {
   "cell_type": "code",
   "execution_count": null,
   "id": "c14dc914",
   "metadata": {},
   "outputs": [],
   "source": [
    "import torch\n",
    "import torch.nn as nn\n",
    "import torch.nn.functional as F\n",
    "\n",
    "class AdditiveAttention(nn.Module):\n",
    "    \"\"\"\n",
    "    Implements Bahdanau (additive) attention.\n",
    "    \"\"\"\n",
    "    def __init__(self, encoder_hidden_dim, decoder_hidden_dim, attention_dim):\n",
    "        super(AdditiveAttention, self).__init__()\n",
    "        self.encoder_attn = nn.Linear(encoder_hidden_dim, attention_dim)\n",
    "        self.decoder_attn = nn.Linear(decoder_hidden_dim, attention_dim)\n",
    "        self.v = nn.Parameter(torch.rand(attention_dim))  #self.v: shape (attn_dim,) or (attn_dim, 1)\n",
    "\n",
    "    def forward(self, encoder_outputs, decoder_hidden):\n",
    "        # encoder_outputs: (batch, src_len, encoder_hidden_dim)\n",
    "        # decoder_hidden: (batch, decoder_hidden_dim)\n",
    "        batch_size, src_len, _ = encoder_outputs.size()\n",
    "        \n",
    "        # Repeat decoder hidden state src_len times\n",
    "        decoder_hidden = decoder_hidden.unsqueeze(1).repeat(1, src_len, 1)\n",
    "        \n",
    "        # Calculate energy\n",
    "        energy = torch.tanh(self.encoder_attn(encoder_outputs) + self.decoder_attn(decoder_hidden)) # (batch, src_len, attn_dim)\n",
    "        #!(batch, src_len, attn_dim) @ (attn_dim,) = batch,src_len \n",
    "        energy = energy @ self.v    # (batch, src_len)\n",
    "        \n",
    "        attn_weights = F.softmax(energy, dim=1) # (batch, src_len)\n",
    "        \n",
    "        # Compute context vector\n",
    "                   context              = torch.bmm(attn_weights.unsqueeze(1), encoder_outputs).squeeze(1) # (batch, encoder_hidden_dim)\n",
    "        #dimension of attn_weights      = batch, src_len,\n",
    "        #          #dimension of encoder_output = batch, src_len, encoder_hidden_dim\n",
    "        \n",
    "        return context, attn_weights"
   ]
  },
  {
   "cell_type": "code",
   "execution_count": null,
   "id": "690cea79",
   "metadata": {},
   "outputs": [
    {
     "ename": "",
     "evalue": "",
     "output_type": "error",
     "traceback": [
      "\u001b[1;31mnotebook controller is DISPOSED. \n",
      "\u001b[1;31mView Jupyter <a href='command:jupyter.viewOutput'>log</a> for further details."
     ]
    },
    {
     "ename": "",
     "evalue": "",
     "output_type": "error",
     "traceback": [
      "\u001b[1;31mnotebook controller is DISPOSED. \n",
      "\u001b[1;31mView Jupyter <a href='command:jupyter.viewOutput'>log</a> for further details."
     ]
    },
    {
     "ename": "",
     "evalue": "",
     "output_type": "error",
     "traceback": [
      "\u001b[1;31mnotebook controller is DISPOSED. \n",
      "\u001b[1;31mView Jupyter <a href='command:jupyter.viewOutput'>log</a> for further details."
     ]
    }
   ],
   "source": [
    "import torch\n",
    "import torch.nn as nn\n",
    "class KvAttention(nn.Module): \n",
    "  def __init__(self,encoder_hidden_dim,decoder_hidden_dim,attention_dim,):\n",
    "    super(KvAttention,self).__init__()\n",
    "    self.encoder_attn = nn.Linear(encoder_hidden_dim,attention_dim) #linear layer to make similar dimension of encoder hidden size and decoder hidden size\n",
    "    \n",
    "    self.decoder_attn = nn.Linear(decoder_hidden_dim,attention_dim)\n",
    "    self.v            = nn.Parameter(torch.rand(attention_dim))\n",
    "  def forward(self,encoder_outputs,decoder_hidden): \n",
    "      #encoder_outputs                            : (``batch,src_len,encoder_hidden_dim``)\n",
    "      #decoder_hidden                             : shape(`batch_size ,decoder_hidden_dim`)\n",
    "    batch_size,src_len, _ = encoder_outputs.size() #get the batch size and source length from encoder outputs\n",
    "    #- means we ignore the third dimension\n",
    "    #batch_size is the number of samples in one batch (say 64 sentences)\n",
    "    #src_len is the length of the source sequence (say 50 words)\n",
    "    decoder_hidden = decoder_hidden.unsqueeze(1).repeat(1,src_len,1).repeat((1,src_len,1))\n",
    "    #repeat the decoder hidden state src_len times to match the source length\n",
    "    #unsqueeze(1) adds a new dimension at index 1, making it  batch_size, 1, decoder_hidden_dim\n",
    "    \n",
    "    \n",
    "    \n",
    "    \n",
    "    \n",
    "    \n",
    "    "
   ]
  },
  {
   "cell_type": "code",
   "execution_count": 6,
   "id": "86121da2",
   "metadata": {},
   "outputs": [],
   "source": [
    "import torch\n",
    "import torch.nn as nn\n",
    "import torch.nn.functional as F\n",
    "\n",
    "class DotProductAttention(nn.Module):\n",
    "    def __init__(self):\n",
    "        super(DotProductAttention, self).__init__()\n",
    "\n",
    "    def forward(self, encoder_outputs, decoder_hidden):\n",
    "        \"\"\"\n",
    "        encoder_outputs: (batch, src_len, hidden_dim)\n",
    "        decoder_hidden: (batch, hidden_dim)\n",
    "        \"\"\"\n",
    "        # Unsqueeze to (batch, 1, hidden_dim) for bmm\n",
    "        decoder_hidden = decoder_hidden.unsqueeze(1)  # (batch, 1, hidden_dim)\n",
    "\n",
    "        # Compute dot product attention scores\n",
    "        attn_scores = torch.bmm(decoder_hidden, encoder_outputs.transpose(1, 2))  # (batch, 1, src_len)\n",
    "        \n",
    "        # Normalize scores to get attention weights\n",
    "        attn_weights = F.softmax(attn_scores, dim=-1)  # (batch, 1, src_len)\n",
    "\n",
    "        # Weighted sum of encoder outputs to get context\n",
    "        context = torch.bmm(attn_weights, encoder_outputs)  # (batch, 1, hidden_dim)\n",
    "\n",
    "        # Remove extra dimension\n",
    "        context = context.squeeze(1)       # (batch, hidden_dim)\n",
    "        attn_weights = attn_weights.squeeze(1)  # (batch, src_len)\n",
    "\n",
    "        return context, attn_weights\n"
   ]
  }
 ],
 "metadata": {
  "kernelspec": {
   "display_name": "Python 3",
   "language": "python",
   "name": "python3"
  },
  "language_info": {
   "codemirror_mode": {
    "name": "ipython",
    "version": 3
   },
   "file_extension": ".py",
   "mimetype": "text/x-python",
   "name": "python",
   "nbconvert_exporter": "python",
   "pygments_lexer": "ipython3",
   "version": "3.11.13"
  }
 },
 "nbformat": 4,
 "nbformat_minor": 5
}
