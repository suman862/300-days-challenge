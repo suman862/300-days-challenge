{
 "cells": [
  {
   "cell_type": "code",
   "execution_count": null,
   "id": "1ca695cf",
   "metadata": {},
   "outputs": [
    {
     "ename": "SyntaxError",
     "evalue": "incomplete input (3168012748.py, line 3)",
     "output_type": "error",
     "traceback": [
      "  \u001b[36mCell\u001b[39m\u001b[36m \u001b[39m\u001b[32mIn[2]\u001b[39m\u001b[32m, line 3\u001b[39m\n\u001b[31m    \u001b[39m\n    ^\n\u001b[31mSyntaxError\u001b[39m\u001b[31m:\u001b[39m incomplete input\n"
     ]
    }
   ],
   "source": [
    "import torch.nn as nn \n",
    "class BILSTM(nn.Module):\n",
    "  def __init__(self,):\n",
    "    super(BILSTM,self).__init__()\n",
    "    \n",
    "      \n",
    "      \n",
    "    \n",
    "  "
   ]
  },
  {
   "cell_type": "code",
   "execution_count": null,
   "id": "7daacc6f",
   "metadata": {},
   "outputs": [],
   "source": [
    "import torch.nn as nn \n",
    "class sequenceclassifier(nn.Module):\n",
    "  #defining the class fors sequence classification using a bidirectional LSTM\n",
    "  def __init__(self,vocab_size,embedding_dim,hidden_dim,num_layers,dropout):  #constructor to initialize the parameters\n",
    "    super(sequenceclassifier,self).__init__()\n",
    "    self.embedding=nn.Embedding(vocab_size,embedding_dim)\n",
    "    self.lstm=nn.Lstm(embedding_dim,hidden_dim,num_layers,bidirectional=True,dropout=dropout) \n",
    "    #make sure layers are capitalized, we will not use small letter\n",
    "    self.dropout=nn.Dropout(dropout)\n",
    "    self.fc=nn.Linear(hidden_dim)\n",
    "  def forward(self,x): #size of x is (batch_Size,sequence_length)\n",
    "    #forward pass where actual calculation/computation happens.\n",
    "    embedded=self.embedding(x)\n",
    "    lstm=self.lstm(embedded)\n",
    "    dropout=self.dropout(lstm)\n",
    "    output=self.fc(dropout) # output will be of size (batch_size,sequence_length,hidden_dim)\n",
    "    return output \n",
    "    \n",
    "    "
   ]
  }
 ],
 "metadata": {
  "kernelspec": {
   "display_name": "Python 3",
   "language": "python",
   "name": "python3"
  },
  "language_info": {
   "codemirror_mode": {
    "name": "ipython",
    "version": 3
   },
   "file_extension": ".py",
   "mimetype": "text/x-python",
   "name": "python",
   "nbconvert_exporter": "python",
   "pygments_lexer": "ipython3",
   "version": "3.11.13"
  }
 },
 "nbformat": 4,
 "nbformat_minor": 5
}
