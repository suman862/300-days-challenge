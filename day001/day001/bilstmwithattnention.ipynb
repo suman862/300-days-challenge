{
 "cells": [
  {
   "cell_type": "code",
   "execution_count": 4,
   "id": "b0aac3e8",
   "metadata": {},
   "outputs": [
    {
     "ename": "ModuleNotFoundError",
     "evalue": "No module named 'torchvision'",
     "output_type": "error",
     "traceback": [
      "\u001b[31m---------------------------------------------------------------------------\u001b[39m",
      "\u001b[31mModuleNotFoundError\u001b[39m                       Traceback (most recent call last)",
      "\u001b[36mCell\u001b[39m\u001b[36m \u001b[39m\u001b[32mIn[4]\u001b[39m\u001b[32m, line 3\u001b[39m\n\u001b[32m      1\u001b[39m \u001b[38;5;28;01mimport\u001b[39;00m\u001b[38;5;250m \u001b[39m\u001b[34;01mtorch\u001b[39;00m\n\u001b[32m      2\u001b[39m \u001b[38;5;28;01mfrom\u001b[39;00m\u001b[38;5;250m \u001b[39m\u001b[34;01mtorch\u001b[39;00m\u001b[38;5;250m \u001b[39m\u001b[38;5;28;01mimport\u001b[39;00m nn\n\u001b[32m----> \u001b[39m\u001b[32m3\u001b[39m \u001b[38;5;28;01mfrom\u001b[39;00m\u001b[38;5;250m \u001b[39m\u001b[34;01md2l\u001b[39;00m\u001b[38;5;250m \u001b[39m\u001b[38;5;28;01mimport\u001b[39;00m torch \u001b[38;5;28;01mas\u001b[39;00m d2l\n\u001b[32m      5\u001b[39m \u001b[38;5;28;01mclass\u001b[39;00m\u001b[38;5;250m \u001b[39m\u001b[34;01mBiLSTMEncoder\u001b[39;00m(nn.Module):\n\u001b[32m      6\u001b[39m     \u001b[38;5;28;01mdef\u001b[39;00m\u001b[38;5;250m \u001b[39m\u001b[34m__init__\u001b[39m(\u001b[38;5;28mself\u001b[39m, vocab_size, embed_size, num_hiddens, num_layers, dropout=\u001b[32m0\u001b[39m):\n",
      "\u001b[36mFile \u001b[39m\u001b[32m~/300-days-challenge/300-days-challenge/300cha/lib/python3.11/site-packages/d2l/torch.py:6\u001b[39m\n\u001b[32m      4\u001b[39m \u001b[38;5;28;01mimport\u001b[39;00m\u001b[38;5;250m \u001b[39m\u001b[34;01mnumpy\u001b[39;00m\u001b[38;5;250m \u001b[39m\u001b[38;5;28;01mas\u001b[39;00m\u001b[38;5;250m \u001b[39m\u001b[34;01mnp\u001b[39;00m\n\u001b[32m      5\u001b[39m \u001b[38;5;28;01mimport\u001b[39;00m\u001b[38;5;250m \u001b[39m\u001b[34;01mtorch\u001b[39;00m\n\u001b[32m----> \u001b[39m\u001b[32m6\u001b[39m \u001b[38;5;28;01mimport\u001b[39;00m\u001b[38;5;250m \u001b[39m\u001b[34;01mtorchvision\u001b[39;00m\n\u001b[32m      7\u001b[39m \u001b[38;5;28;01mfrom\u001b[39;00m\u001b[38;5;250m \u001b[39m\u001b[34;01mPIL\u001b[39;00m\u001b[38;5;250m \u001b[39m\u001b[38;5;28;01mimport\u001b[39;00m Image\n\u001b[32m      8\u001b[39m \u001b[38;5;28;01mfrom\u001b[39;00m\u001b[38;5;250m \u001b[39m\u001b[34;01mtorch\u001b[39;00m\u001b[38;5;250m \u001b[39m\u001b[38;5;28;01mimport\u001b[39;00m nn\n",
      "\u001b[31mModuleNotFoundError\u001b[39m: No module named 'torchvision'"
     ]
    }
   ],
   "source": [
    "import torch\n",
    "from torch import nn\n",
    "from d2l import torch as d2l\n",
    "\n",
    "class BiLSTMEncoder(nn.Module):\n",
    "    def __init__(self, vocab_size, embed_size, num_hiddens, num_layers, dropout=0):\n",
    "        super().__init__()\n",
    "        self.embedding = nn.Embedding(vocab_size, embed_size)\n",
    "        # Bidirectional LSTM with batch_first=True for (batch, time_steps, features)\n",
    "        self.rnn = nn.LSTM(embed_size, num_hiddens, num_layers=num_layers,\n",
    "                           bidirectional=True, dropout=dropout, batch_first=True)\n",
    "        \n",
    "    def forward(self, X):\n",
    "        # X shape: (batch_size, num_steps)\n",
    "        X = self.embedding(X)  # Shape: (batch_size, num_steps, embed_size)\n",
    "        # LSTM returns:\n",
    "        #   output: (batch_size, num_steps, 2*num_hiddens) [concat of fwd/bwd]\n",
    "        #   hidden: tuple (h_n, c_n) of final states for each direction/layer\n",
    "        output, state = self.rnn(X)\n",
    "        # Return output and state for sequence tasks\n",
    "        return output, state\n",
    "\n",
    "# Example usage\n",
    "if __name__ == \"__main__\":\n",
    "    # Hyperparameters\n",
    "    vocab_size = 1000\n",
    "    embed_size = 100\n",
    "    num_hiddens = 128\n",
    "    num_layers = 2\n",
    "    dropout = 0.1\n",
    "    batch_size = 4\n",
    "    seq_len = 10\n",
    "    \n",
    "    # Create model\n",
    "    encoder = BiLSTMEncoder(vocab_size, embed_size, num_hiddens, num_layers, dropout)\n",
    "    \n",
    "    # Sample input: batch of 4 sequences, each with 10 token indices\n",
    "    X = torch.randint(0, vocab_size, (batch_size, seq_len))\n",
    "    \n",
    "    # Forward pass\n",
    "    output, state = encoder(X)\n",
    "    \n",
    "    # Inspect shapes:\n",
    "    print(\"Output shape:\", output.shape)  # Should be [4, 10, 256] (2*128)\n",
    "    \n",
    "    # Extract final hidden states (h_n) from state tuple\n",
    "    h_n = state[0]  # Shape: [num_layers*2, batch_size, num_hiddens]\n",
    "    print(\"Final hidden state shape:\", h_n.shape)\n",
    "    \n",
    "    # To get the last layer's forward & backward states:\n",
    "    last_forward = h_n[-2, :, :]  # Second-to-last layer output (forward)\n",
    "    last_backward = h_n[-1, :, :]  # Last layer output (backward)\n",
    "    combined = torch.cat((last_forward, last_backward), dim=1)  # [batch_size, 2*num_hiddens]\n",
    "    print(\"Combined final state shape:\", combined.shape)"
   ]
  }
 ],
 "metadata": {
  "kernelspec": {
   "display_name": "Python 3",
   "language": "python",
   "name": "python3"
  },
  "language_info": {
   "codemirror_mode": {
    "name": "ipython",
    "version": 3
   },
   "file_extension": ".py",
   "mimetype": "text/x-python",
   "name": "python",
   "nbconvert_exporter": "python",
   "pygments_lexer": "ipython3",
   "version": "3.11.13"
  }
 },
 "nbformat": 4,
 "nbformat_minor": 5
}
